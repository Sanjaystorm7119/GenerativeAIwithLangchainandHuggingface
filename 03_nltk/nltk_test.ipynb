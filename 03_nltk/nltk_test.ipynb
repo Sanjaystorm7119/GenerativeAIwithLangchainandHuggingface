{
 "cells": [
  {
   "cell_type": "code",
   "execution_count": null,
   "id": "442219b7",
   "metadata": {},
   "outputs": [
    {
     "ename": "ModuleNotFoundError",
     "evalue": "No module named 'nltk'",
     "output_type": "error",
     "traceback": [
      "\u001b[31m---------------------------------------------------------------------------\u001b[39m",
      "\u001b[31mModuleNotFoundError\u001b[39m                       Traceback (most recent call last)",
      "\u001b[36mCell\u001b[39m\u001b[36m \u001b[39m\u001b[32mIn[1]\u001b[39m\u001b[32m, line 9\u001b[39m\n\u001b[32m      1\u001b[39m corpus = \u001b[33m\"\"\"\u001b[39m\u001b[33mI am Sanjay.\u001b[39m\n\u001b[32m      2\u001b[39m \u001b[33mI am learning ML , NLP .\u001b[39m\n\u001b[32m      3\u001b[39m \u001b[33mAnd I am excited !\u001b[39m\n\u001b[32m      4\u001b[39m \u001b[33m\"\"\"\u001b[39m\n\u001b[32m      6\u001b[39m \u001b[38;5;66;03m# corpus\u001b[39;00m\n\u001b[32m      7\u001b[39m \u001b[38;5;66;03m# print(corpus)\u001b[39;00m\n\u001b[32m----> \u001b[39m\u001b[32m9\u001b[39m \u001b[38;5;28;01mfrom\u001b[39;00m\u001b[38;5;250m \u001b[39m\u001b[34;01mnltk\u001b[39;00m\u001b[34;01m.\u001b[39;00m\u001b[34;01mtokenize\u001b[39;00m\u001b[38;5;250m \u001b[39m\u001b[38;5;28;01mimport\u001b[39;00m sent_token\n",
      "\u001b[31mModuleNotFoundError\u001b[39m: No module named 'nltk'"
     ]
    }
   ],
   "source": [
    "# corpus = \"\"\"I am Sanjay.\n",
    "# I am learning ML , NLP .\n",
    "# And I am excited !\n",
    "# \"\"\"\n",
    "\n",
    "# # corpus\n",
    "# # print(corpus)\n",
    "\n",
    "# from nltk.tokenize import sent_token\n"
   ]
  }
 ],
 "metadata": {
  "kernelspec": {
   "display_name": "Python 3",
   "language": "python",
   "name": "python3"
  },
  "language_info": {
   "codemirror_mode": {
    "name": "ipython",
    "version": 3
   },
   "file_extension": ".py",
   "mimetype": "text/x-python",
   "name": "python",
   "nbconvert_exporter": "python",
   "pygments_lexer": "ipython3",
   "version": "3.12.0"
  }
 },
 "nbformat": 4,
 "nbformat_minor": 5
}
