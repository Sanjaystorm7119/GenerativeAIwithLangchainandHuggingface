{
 "cells": [
  {
   "cell_type": "code",
   "execution_count": 28,
   "id": "d14ce46b",
   "metadata": {},
   "outputs": [
    {
     "name": "stdout",
     "output_type": "stream",
     "text": [
      "[3, 2, 1]\n"
     ]
    }
   ],
   "source": [
    "list = [1,2,3]\n",
    "print(list[::-1])"
   ]
  },
  {
   "cell_type": "code",
   "execution_count": 26,
   "id": "05c355b7",
   "metadata": {},
   "outputs": [
    {
     "name": "stdout",
     "output_type": "stream",
     "text": [
      "(11+11j)\n"
     ]
    }
   ],
   "source": [
    "a = 5+5j\n",
    "b= 6+6j\n",
    "print(a+b)"
   ]
  },
  {
   "cell_type": "code",
   "execution_count": 25,
   "id": "76aa7854",
   "metadata": {},
   "outputs": [
    {
     "name": "stdout",
     "output_type": "stream",
     "text": [
      "bud says woof\n",
      "jay , bud\n"
     ]
    }
   ],
   "source": [
    "#multiple inheritance\n",
    "\n",
    "class Animal:\n",
    "    def __init__(self,name):\n",
    "        self.name = name\n",
    "\n",
    "    def speak(self):\n",
    "        print(\"language\")\n",
    "    \n",
    "class Pet:\n",
    "    def __init__(self,owner):\n",
    "        self.owner = owner\n",
    "\n",
    "\n",
    "class Dog(Animal,Pet):\n",
    "    def __init__(self, name,owner):\n",
    "        # super().__init__(self,name,owner)\n",
    "        Animal.__init__(self,name)\n",
    "        Pet.__init__(self,owner)\n",
    "\n",
    "    def speak(self):\n",
    "        return f\"{self.name} says woof\"\n",
    "    \n",
    "dog = Dog(\"bud\",\"jay\")\n",
    "print(dog.speak())\n",
    "# dog.name\n",
    "# dog.owner\n",
    "print(f\"{dog.owner} , {dog.name}\")\n",
    "\n",
    "    \n",
    "\n",
    "        "
   ]
  },
  {
   "cell_type": "code",
   "execution_count": 17,
   "id": "aa99be87",
   "metadata": {},
   "outputs": [
    {
     "name": "stdout",
     "output_type": "stream",
     "text": [
      "isSelfDrive : True \n",
      "the driver drives electric car\n"
     ]
    }
   ],
   "source": [
    "class Car:\n",
    "    def __init__(self,windows,doors,type):\n",
    "        self.windows = windows\n",
    "        self.door = doors\n",
    "        self.type = type\n",
    "    \n",
    "    def drive(self):\n",
    "        print(f\"the driver drives {self.type} car\")\n",
    "    \n",
    "car1 =  Car(4,4,\"electric\")\n",
    "# car1.drive()\n",
    "\n",
    "class Tesla(Car):\n",
    "    def __init__(self, windows, doors, type,isSelfDrive):\n",
    "        super().__init__(windows, doors, type)\n",
    "        self.isSelfDrive = isSelfDrive\n",
    "\n",
    "    def SelfDrive(self):\n",
    "        print(f\"isSelfDrive : {self.isSelfDrive} \")\n",
    "\n",
    "tesla1 = Tesla(4,5,\"electric\",True)\n",
    "tesla1.SelfDrive()\n",
    "tesla1.drive()\n",
    "\n"
   ]
  },
  {
   "cell_type": "code",
   "execution_count": 6,
   "id": "d21efa3c",
   "metadata": {},
   "outputs": [
    {
     "name": "stdout",
     "output_type": "stream",
     "text": [
      "2000\n",
      "200 added , new balance is 2200\n",
      "300 withdrawn , new balance is 1900\n",
      "1900\n"
     ]
    }
   ],
   "source": [
    "class BankAccount:\n",
    "    def __init__(self,owner,balance=0):\n",
    "        self.owner = owner\n",
    "        self.balance = balance\n",
    "    \n",
    "    def deposit(self,amount):\n",
    "        self.balance += amount\n",
    "        print(f\"{amount} added , new balance is {self.balance}\")\n",
    "        \n",
    "    def withdraw(self,amount):\n",
    "        if (amount>self.balance) :\n",
    "            print(\"insufficeint funds\")\n",
    "        else:\n",
    "            self.balance -= amount\n",
    "        print(f\"{amount} withdrawn , new balance is {self.balance}\")\n",
    "    def get_balance(self):\n",
    "        print(self.balance)\n",
    "\n",
    "account = BankAccount(\"jay\",2000)\n",
    "account.get_balance()\n",
    "account.deposit(200)\n",
    "account.withdraw(300)\n",
    "account.get_balance()"
   ]
  },
  {
   "cell_type": "code",
   "execution_count": 5,
   "id": "88f2a3a8",
   "metadata": {},
   "outputs": [
    {
     "name": "stdout",
     "output_type": "stream",
     "text": [
      "lucy says woof\n"
     ]
    }
   ],
   "source": [
    "class Animal():\n",
    "    def __init__(self, name, age, species):\n",
    "        self.name = name\n",
    "        self.age= age\n",
    "        self.species = species\n",
    "    \n",
    "    def bark(self):\n",
    "        print(f\"{self.name} says woof\")\n",
    "    \n",
    "dog1=Animal(\"lucy\",10,\"pom\")\n",
    "dog1.bark()"
   ]
  },
  {
   "cell_type": "code",
   "execution_count": null,
   "id": "eb1e9796",
   "metadata": {},
   "outputs": [
    {
     "name": "stdout",
     "output_type": "stream",
     "text": [
      "[5, 6]\n"
     ]
    }
   ],
   "source": [
    "nums = [1,2,3,4,5,6]\n",
    "filtered = list(filter(lambda x: x>4 , nums))\n",
    "print(filtered)"
   ]
  },
  {
   "cell_type": "code",
   "execution_count": 45,
   "id": "f7a64494",
   "metadata": {},
   "outputs": [
    {
     "name": "stdout",
     "output_type": "stream",
     "text": [
      "[1, 4, 16, 25, 36, 49]\n"
     ]
    }
   ],
   "source": [
    "nums1=[1,2,4]\n",
    "nums2=[5,6,7]\n",
    "merged = [*nums1,*nums2]\n",
    "# print(merged)\n",
    "squared = list(map(lambda x : x*x , [*nums1,*nums2]))\n",
    "print(squared)"
   ]
  },
  {
   "cell_type": "code",
   "execution_count": 41,
   "id": "629a5338",
   "metadata": {},
   "outputs": [
    {
     "name": "stdout",
     "output_type": "stream",
     "text": [
      "[1, 4, 9, 16]\n"
     ]
    }
   ],
   "source": [
    "# def sq(x):\n",
    "#     return x * x\n",
    "\n",
    "nums = [1, 2, 3,4]\n",
    "# squared = list(map(sq, nums))\n",
    "\n",
    "# print(squared)\n",
    "print(list(map(lambda x: x**2 , nums)))\n",
    "\n"
   ]
  },
  {
   "cell_type": "code",
   "execution_count": 38,
   "id": "7e8ca5bb",
   "metadata": {},
   "outputs": [
    {
     "data": {
      "text/plain": [
       "7"
      ]
     },
     "execution_count": 38,
     "metadata": {},
     "output_type": "execute_result"
    }
   ],
   "source": [
    "# even = lambda a : \"even\" if a%2==0 else \"odd\"\n",
    "\n",
    "# even(55)\n",
    "addition = lambda *args : sum(args)\n",
    "\n",
    "addition(1,2,4)"
   ]
  },
  {
   "cell_type": "code",
   "execution_count": 35,
   "id": "e566fa6b",
   "metadata": {},
   "outputs": [
    {
     "data": {
      "text/plain": [
       "6"
      ]
     },
     "execution_count": 35,
     "metadata": {},
     "output_type": "execute_result"
    }
   ],
   "source": [
    "def fact(n):\n",
    "    if n==0:\n",
    "        return 1\n",
    "    else:\n",
    "        return n * fact(n-1)\n",
    "fact(3)\n"
   ]
  },
  {
   "cell_type": "code",
   "execution_count": 32,
   "id": "f89df938",
   "metadata": {},
   "outputs": [
    {
     "data": {
      "text/plain": [
       "'not palindrome'"
      ]
     },
     "execution_count": 32,
     "metadata": {},
     "output_type": "execute_result"
    }
   ],
   "source": [
    "def isPalindrome(sentence):\n",
    "    sentence = sentence.lower()\n",
    "    newStr =\"\"\n",
    "    for char in sentence:\n",
    "        if (not(char.isalpha())):\n",
    "            continue\n",
    "        else:\n",
    "            newStr += char\n",
    "    # if newStr == newStr[::-1]:\n",
    "    #     print(\"palindrome\")\n",
    "    # else:\n",
    "    #     print(\"not palindrome\")\n",
    "    return \"palindrome\" if newStr == newStr[::-1] else \"not palindrome\"\n",
    "isPalindrome(\"abac\")"
   ]
  },
  {
   "cell_type": "code",
   "execution_count": 23,
   "id": "22c10ab2",
   "metadata": {},
   "outputs": [
    {
     "name": "stdout",
     "output_type": "stream",
     "text": [
      "False\n"
     ]
    }
   ],
   "source": [
    "def passCheck(password):\n",
    "    if len(password)<6:\n",
    "        return False\n",
    "    if not any(char.isdigit() for char in password):\n",
    "        return False\n",
    "    if not any (char.islower() for char in password):\n",
    "        return False\n",
    "    if not any (char.isupper() for char in password):\n",
    "        return False\n",
    "    if not any (char in '!@#$%^&*()_+{}:\\\"<>?' for char in password):\n",
    "        return False\n",
    "    return True\n",
    "\n",
    "print(passCheck(\"SAnj\"))"
   ]
  },
  {
   "cell_type": "code",
   "execution_count": 20,
   "id": "b30749a7",
   "metadata": {},
   "outputs": [
    {
     "data": {
      "text/plain": [
       "-25.6"
      ]
     },
     "execution_count": 20,
     "metadata": {},
     "output_type": "execute_result"
    }
   ],
   "source": [
    "def temperature(temp,unit):\n",
    "    if unit==\"c\" or unit ==\"C\":\n",
    "        return temp *9/5 +32\n",
    "    elif unit==\"f\" or unit == \"F\":\n",
    "        return (temp-32) *5/9\n",
    "    else :\n",
    "        return \"wrong units\"\n",
    "\n",
    "temperature(-32,\"c\")"
   ]
  },
  {
   "cell_type": "code",
   "execution_count": 16,
   "id": "a20523b6",
   "metadata": {},
   "outputs": [
    {
     "name": "stdout",
     "output_type": "stream",
     "text": [
      "hello san\n"
     ]
    }
   ],
   "source": [
    "# student = {\"name\":\"jay\"}\n",
    "# studentcopy = student.copy() #shallowcopy\n",
    "# student[\"name\"]=\"san\"\n",
    "# print(studentcopy)\n",
    "\n",
    "def greet(name=\"san\"):\n",
    "    print(f\"hello {name}\")\n",
    "\n",
    "greet()"
   ]
  },
  {
   "cell_type": "code",
   "execution_count": null,
   "id": "64b10dbb",
   "metadata": {},
   "outputs": [
    {
     "name": "stdout",
     "output_type": "stream",
     "text": [
      "4\n",
      "3\n"
     ]
    }
   ],
   "source": [
    "# packed = 1,2,3,\"hellp\"\n",
    "# print(packed)\n",
    "\n",
    "lst = [[1,2,3,4],[5,7,8,9],[\"hello\",1,2]]\n",
    "print(lst[0][3])\n",
    "\n",
    "tup = ((1,2,3,4),(5,7,8,9),(\"hello\",1,2))\n",
    "print(tup[0][2])"
   ]
  },
  {
   "cell_type": "code",
   "execution_count": 37,
   "id": "f88e4bbe",
   "metadata": {},
   "outputs": [
    {
     "name": "stdout",
     "output_type": "stream",
     "text": [
      "char : s  n = 0 ,  char : a  n = 1 ,  char : n  n = 2 ,  char : j  n = 3 ,  char : a  n = 4 ,  char : y  n = 5 ,  "
     ]
    }
   ],
   "source": [
    "mystr = \"sanjay\"\n",
    "for n, char in enumerate(mystr):\n",
    "    print(f'char : {char}  n = {n} , ', end=\" \")"
   ]
  },
  {
   "cell_type": "code",
   "execution_count": 10,
   "id": "dd3b7092",
   "metadata": {},
   "outputs": [
    {
     "name": "stdout",
     "output_type": "stream",
     "text": [
      "<class 'set'>\n"
     ]
    }
   ],
   "source": [
    "myset = set()\n",
    "print(type(myset))"
   ]
  },
  {
   "cell_type": "code",
   "execution_count": 47,
   "id": "cb2e0d09",
   "metadata": {},
   "outputs": [
    {
     "data": {
      "text/plain": [
       "[6, 5, 4]"
      ]
     },
     "execution_count": 47,
     "metadata": {},
     "output_type": "execute_result"
    }
   ],
   "source": [
    "mylis = [\"sasdsa\",\"adsad\",\"sads\"]\n",
    "[len(words) for words in mylis]"
   ]
  },
  {
   "cell_type": "code",
   "execution_count": 46,
   "id": "7e6a551e",
   "metadata": {},
   "outputs": [
    {
     "name": "stdout",
     "output_type": "stream",
     "text": [
      "[[1, 'a'], [1, 'b'], [2, 'a'], [2, 'b']]\n"
     ]
    }
   ],
   "source": [
    "lis1 = [1,2,]\n",
    "lis2= ['a','b']\n",
    "pair = [[i,j] for i in lis1 for j in lis2 ]\n",
    "print(pair)"
   ]
  },
  {
   "cell_type": "code",
   "execution_count": null,
   "id": "ce09a611",
   "metadata": {},
   "outputs": [
    {
     "name": "stdout",
     "output_type": "stream",
     "text": [
      "<class 'tuple'>\n"
     ]
    }
   ],
   "source": [
    "#\n",
    "\"\"\"\n",
    "sads\n",
    "\"\"\"\n",
    "#\n",
    "# age = 15\n",
    "# if age > 11:\n",
    "#     print(\"greater\")\n",
    "# else :\n",
    "#     print(\"lesser\")\n",
    "# line cont \n",
    "# add = 1+2+3+\\\n",
    "# 4+5\n",
    "# print(add)\n",
    "a= {\"a\":1,\"b\":2}\n",
    "b= (1,2)\n",
    "print(type(b))"
   ]
  }
 ],
 "metadata": {
  "kernelspec": {
   "display_name": "Python 3",
   "language": "python",
   "name": "python3"
  },
  "language_info": {
   "codemirror_mode": {
    "name": "ipython",
    "version": 3
   },
   "file_extension": ".py",
   "mimetype": "text/x-python",
   "name": "python",
   "nbconvert_exporter": "python",
   "pygments_lexer": "ipython3",
   "version": "3.12.0"
  }
 },
 "nbformat": 4,
 "nbformat_minor": 5
}
