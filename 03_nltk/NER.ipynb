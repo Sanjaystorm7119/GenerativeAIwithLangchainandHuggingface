{
 "cells": [
  {
   "cell_type": "code",
   "execution_count": 4,
   "id": "d1a897d8",
   "metadata": {},
   "outputs": [
    {
     "name": "stderr",
     "output_type": "stream",
     "text": [
      "[nltk_data] Downloading package maxent_ne_chunker_tab to\n",
      "[nltk_data]     C:\\Users\\Sanjay B\\AppData\\Roaming\\nltk_data...\n",
      "[nltk_data]   Package maxent_ne_chunker_tab is already up-to-date!\n",
      "[nltk_data] Downloading package words to C:\\Users\\Sanjay\n",
      "[nltk_data]     B\\AppData\\Roaming\\nltk_data...\n",
      "[nltk_data]   Package words is already up-to-date!\n"
     ]
    }
   ],
   "source": [
    "import nltk \n",
    "nltk.download('maxent_ne_chunker_tab')\n",
    "nltk.download('words')\n",
    "sentence=\"The Eiffel Tower was built from 1887 to 1889 by French engineer Gustave Eiffel, whose company specialized in building metal frameworks and structures.\"\n"
   ]
  },
  {
   "cell_type": "code",
   "execution_count": 6,
   "id": "22f31571",
   "metadata": {},
   "outputs": [
    {
     "name": "stdout",
     "output_type": "stream",
     "text": [
      "words--> ['My', 'name', 'is', 'Sanjay']\n",
      "pos_tag-->[('My', 'PRP$'), ('name', 'NN'), ('is', 'VBZ'), ('Sanjay', 'NNP')]\n"
     ]
    }
   ],
   "source": [
    "import nltk\n",
    "sentence2 = \"My name is Sanjay\"\n",
    "\n",
    "\n",
    "# words = nltk.word_tokenize(sentence)\n",
    "# print(words)\n",
    "\n",
    "words = nltk.word_tokenize(sentence2)\n",
    "print(f\"words--> {words}\")\n",
    "pos_tag = nltk.pos_tag(words)\n",
    "print(f\"pos_tag-->{pos_tag}\")\n",
    "chunk = nltk.ne_chunk(pos_tag)\n",
    "chunk.draw()\n"
   ]
  },
  {
   "cell_type": "code",
   "execution_count": null,
   "id": "0aef9f82",
   "metadata": {},
   "outputs": [],
   "source": []
  },
  {
   "cell_type": "code",
   "execution_count": null,
   "id": "e77d65dd",
   "metadata": {},
   "outputs": [],
   "source": []
  },
  {
   "cell_type": "code",
   "execution_count": null,
   "id": "3b8ab770",
   "metadata": {},
   "outputs": [],
   "source": []
  },
  {
   "cell_type": "code",
   "execution_count": null,
   "id": "61360bbf",
   "metadata": {},
   "outputs": [],
   "source": []
  }
 ],
 "metadata": {
  "kernelspec": {
   "display_name": "Python 3 (ipykernel)",
   "language": "python",
   "name": "python3"
  },
  "language_info": {
   "codemirror_mode": {
    "name": "ipython",
    "version": 3
   },
   "file_extension": ".py",
   "mimetype": "text/x-python",
   "name": "python",
   "nbconvert_exporter": "python",
   "pygments_lexer": "ipython3",
   "version": "3.12.7"
  }
 },
 "nbformat": 4,
 "nbformat_minor": 5
}
